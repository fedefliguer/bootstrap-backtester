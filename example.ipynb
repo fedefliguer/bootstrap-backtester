{
 "cells": [
  {
   "cell_type": "markdown",
   "metadata": {},
   "source": [
    "## 0. Instalación y carga de librerías"
   ]
  },
  {
   "cell_type": "code",
   "execution_count": null,
   "metadata": {},
   "outputs": [],
   "source": [
    "import pandas as pd\n",
    "import numpy as np\n",
    "from datetime import timedelta\n",
    "import random\n",
    "import yfinance as yf\n",
    "import datetime\n",
    "import plotly.express as px\n",
    "#!pip install git+https://github.com/fedefliguer/bootstrap_backtester@main#egg=bootstrap_backtester\n",
    "from bootstrap_backtester import *"
   ]
  },
  {
   "cell_type": "markdown",
   "metadata": {},
   "source": [
    "## 1. Definición de la estrategia"
   ]
  },
  {
   "cell_type": "code",
   "execution_count": null,
   "metadata": {},
   "outputs": [],
   "source": [
    "strategy = 'e_RSI' # La estrategia debe estar en la función build_individual_strategy(), llevando para cada observación C, M o V según sea Compra, Mantener o Vender."
   ]
  },
  {
   "cell_type": "markdown",
   "metadata": {},
   "source": [
    "## 2. Definir listado total de activos disponibles para la estrategia"
   ]
  },
  {
   "cell_type": "code",
   "execution_count": null,
   "metadata": {},
   "outputs": [],
   "source": [
    "sp500 = pd.read_html('https://en.wikipedia.org/wiki/List_of_S%26P_500_companies')[0]\n",
    "sp500_tickers = list(sp500.Symbol)\n",
    "sp500_tickers = [e.replace('.','-') for e in sp500_tickers]"
   ]
  },
  {
   "cell_type": "markdown",
   "metadata": {},
   "source": [
    "## 3. Definir cantidad de iteraciones y activos por iteración"
   ]
  },
  {
   "cell_type": "code",
   "execution_count": null,
   "metadata": {},
   "outputs": [],
   "source": [
    "numero_iteraciones = int(len(sp500_tickers)/18)\n",
    "numero_activos_por_iteracion = int(len(sp500_tickers)/12)"
   ]
  },
  {
   "cell_type": "markdown",
   "metadata": {},
   "source": [
    "## 4. Ejecutar iteraciones y se guardan resultados"
   ]
  },
  {
   "cell_type": "code",
   "execution_count": null,
   "metadata": {
    "scrolled": true
   },
   "outputs": [],
   "source": [
    "results = pd.DataFrame(columns=['metrica','grupo','valor'])\n",
    "j = 0\n",
    "while j < numero_iteraciones:\n",
    "    j = j + 1\n",
    "    print('Iteración', j)\n",
    "\n",
    "    tickers = random.sample(sp500_tickers, numero_activos_por_iteracion)\n",
    "    empieza = str(random.randint(2004, 2022)) + '-' + str(random.randint(1, 12)) + '-01'\n",
    "    termina = datetime.datetime.strptime(empieza, \"%Y-%m-%d\") + datetime.timedelta(days=random.randint(360, 1000))\n",
    "    \n",
    "    print(tickers, empieza, termina)\n",
    "    df_global, daily_returns = descarga(tickers, empieza, termina)\n",
    "    df_global = build_individual_strategy(df_global, estrategia = strategy)    \n",
    "    df_trades = build_trades(df_global, estrategia = strategy)\n",
    "\n",
    "    benchmark_returns = yf.download(tickers, start=empieza, end=termina).iloc[:, 0:len(tickers)].pct_change().mean(axis=1)\n",
    "    strategy_returns = build_strategy_returns(df_trades, daily_returns, benchmark_returns, duplicados='random', fr = 0)\n",
    "\n",
    "    strategy_analysis = pd.DataFrame(index = benchmark_returns.index)\n",
    "    strategy_analysis['benchmark'] = benchmark_returns\n",
    "    strategy_analysis['strategy'] = strategy_returns\n",
    "    sinteticos_px = (strategy_analysis+1).cumprod()\n",
    "    res = resumen(sinteticos_px['strategy'], sinteticos_px['benchmark'])\n",
    "    results = pd.concat([results, res])"
   ]
  },
  {
   "cell_type": "markdown",
   "metadata": {},
   "source": [
    "## 5. Boxplot de resultados"
   ]
  },
  {
   "cell_type": "code",
   "execution_count": null,
   "metadata": {},
   "outputs": [],
   "source": [
    "fig = px.box(results, x=\"metrica\", y=\"valor\", color=\"grupo\")\n",
    "fig.update_traces(quartilemethod=\"exclusive\")\n",
    "fig.show()"
   ]
  }
 ],
 "metadata": {
  "kernelspec": {
   "display_name": "Python 3",
   "language": "python",
   "name": "python3"
  },
  "language_info": {
   "codemirror_mode": {
    "name": "ipython",
    "version": 3
   },
   "file_extension": ".py",
   "mimetype": "text/x-python",
   "name": "python",
   "nbconvert_exporter": "python",
   "pygments_lexer": "ipython3",
   "version": "3.8.5"
  }
 },
 "nbformat": 4,
 "nbformat_minor": 4
}
